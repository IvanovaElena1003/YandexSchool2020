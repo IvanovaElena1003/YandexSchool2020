{
 "cells": [
  {
   "cell_type": "code",
   "execution_count": 35,
   "metadata": {
    "collapsed": false
   },
   "outputs": [
   ],
   "source": [
    "import pandas as pd\n",
    "import numpy as np\n",
    "\n",
    "\n",
    "# метод для парсинга даты в целое число секунд\n",
    "def hms_to_seconds(t):\n",
    "    ty = t.split(' ')\n",
    "    time = ty[2]\n",
    "    h, m, s = [int(i) for i in time.split(':')]\n",
    "    return 86400*int(ty[0]) + 3600*h + 60*m + s\n",
    "\n"
   ]
  },
  {
   "cell_type": "code",
   "execution_count": 36,
   "metadata": {
    "collapsed": false
   },
   "outputs": [
   ],
   "source": [
    "#Считываем данные из файлов\n",
    "purchases = pd.read_csv('purchases.csv', delimiter=',')\n",
    "visits = pd.read_csv('t1.csv', delimiter=',')"
   ]
  },
  {
   "cell_type": "code",
   "execution_count": 37,
   "metadata": {
    "collapsed": false
   },
   "outputs": [
   ],
   "source": [
    "#Приведём дату в удобный вид и формат\n",
    "visits['start_dt'] = pd.to_datetime(visits['start_dt'], errors=\"coerce\") .dt.strftime(\"%Y-%m-%d %H:%M:%S\")\n",
    "visits['start_dt'] = pd.to_datetime(visits['start_dt'], errors=\"coerce\")\n",
    "visits['end_ts'] = pd.to_datetime(visits['end_ts'], errors=\"coerce\").dt.strftime(\"%Y-%m-%d %H:%M:%S\")\n",
    "visits['end_ts'] = pd.to_datetime(visits['end_ts'], errors=\"coerce\")\n",
    "#Посчитаем время визита\n",
    "visits['time'] = visits['end_ts'] - visits['start_dt']"
   ]
  },
  {
   "cell_type": "code",
   "execution_count": 38,
   "metadata": {
    "collapsed": false
   },
   "outputs": [
   ],
   "source": [
    "#Теперь необходимо преобразовать данное время в число секунд.\n",
    "time = []\n",
    "for index, row in visits.iterrows():\n",
    "    time.append(hms_to_seconds(str(row['time'])))\n",
    "visits['time_v'] = pd.Series(time, index=visits.index)"
   ]
  },
  {
   "cell_type": "code",
   "execution_count": 39,
   "metadata": {
    "collapsed": false
   },
   "outputs": [
    {
     "name": "stdout",
     "output_type": "stream",
     "text": [
      "[('desktop', 1) ('desktop', 2) ('desktop', 3) ('desktop', 4)\n",
      " ('desktop', 5) ('desktop', 7) ('desktop', 9) ('desktop', 10) ('touch', 1)\n",
      " ('touch', 2) ('touch', 3) ('touch', 4) ('touch', 5) ('touch', 9)\n",
      " ('touch', 10)]\n",
      "\n",
      "\n"
     ]
    }
   ],
   "source": [
    "#####################\n",
    "# 1.\tОпределение когорт.\n",
    "# Для определение когорт, необходимо посчитать количество уникальных значений по двум столбцам\n",
    "a = visits[['device', 'source_id']]\n",
    "u = np.unique(a.apply(tuple, axis=1))\n",
    "# уникальные когорты\n",
    "print(u)\n",
    "print('\\n')"
   ]
  },
  {
   "cell_type": "code",
   "execution_count": 40,
   "metadata": {
    "collapsed": false
   },
   "outputs": [
   ],
   "source": [
    "#####################\n",
    "# 2.\tРаспределение Users по когортам.\n",
    "# Находим первые вхождения уникальных юзеров\n",
    "b = visits[['uid']]\n",
    "uid, index = np.unique(b, return_index=True)\n",
    "# отбираем строки соответствующие первых вхождениям клиентов\n",
    "uuid = visits.loc[index]\n",
    "\n",
    "# сюда будем записывать id кагорты\n",
    "t = []\n",
    "# на место каждого элемента массива, будет накопленное значение по кагорте\n",
    "# 4.\tRevenue по когорте.\n",
    "price_k = [0, 0, 0, 0, 0, 0, 0, 0, 0, 0, 0, 0, 0, 0, 0, 0, 0, 0]\n",
    "# 5.\tLifetime по когорте.\n",
    "time_k1 = []\n",
    "time_k2 = []\n",
    "time_k3 = []\n",
    "time_k4 = []\n",
    "time_k5 = []\n",
    "time_k6 = []\n",
    "time_k7 = []\n",
    "time_k8 = []\n",
    "time_k9 = []\n",
    "time_k10 = []\n",
    "time_k11 = []\n",
    "time_k12 = []\n",
    "time_k13 = []\n",
    "time_k14 = []\n",
    "time_k15 = []\n",
    "time_k16 = []\n",
    "time_k17 = []\n",
    "time_k18 = []\n"
   ]
  },
  {
   "cell_type": "code",
   "execution_count": 0,
   "metadata": {
    "collapsed": false
   },
   "outputs": [
   ],
   "source": [
   ]
  },
  {
   "cell_type": "code",
   "execution_count": 42,
   "metadata": {
    "collapsed": false,
    "scrolled": true
   },
   "outputs": [
    {
     "name": "stdout",
     "output_type": "stream",
     "text": [
      "       device              end_ts  source_id   start_dt              start_ts  \\\n",
      "1336  desktop 2017-03-26 12:51:44          1 2017-03-26  2017-03-26T12:20:14Z   \n",
      "43      touch 2017-01-12 23:22:34          4 2017-01-12  2017-01-12T23:20:32Z   \n",
      "579   desktop 2017-02-16 22:48:21          5 2017-02-16  2017-02-16T22:31:28Z   \n",
      "1254  desktop 2017-05-02 11:18:08          4 2017-05-02  2017-05-02T11:10:11Z   \n",
      "173   desktop 2016-07-25 15:02:23          1 2016-07-25  2016-07-25T14:59:26Z   \n",
      "...       ...                 ...        ...        ...                   ...   \n",
      "405   desktop 2017-02-26 17:34:40          4 2017-02-26  2017-02-26T17:19:45Z   \n",
      "406   desktop 2017-05-25 17:15:53          2 2017-05-25  2017-05-25T17:05:29Z   \n",
      "536   desktop 2016-10-10 16:29:18          4 2016-10-10  2016-10-10T15:54:10Z   \n",
      "877   desktop 2016-08-05 12:18:30          4 2016-08-05  2016-08-05T12:14:03Z   \n",
      "869   desktop 2016-08-17 15:49:22          4 2016-08-17  2016-08-17T15:46:45Z   \n",
      "\n",
      "             uid            time  time_v  cohort  \n",
      "1336     3119825 0 days 12:51:44   46304       0  \n",
      "43       4079182 0 days 23:22:34   84154      11  \n",
      "579      5141732 0 days 22:48:21   82101       4  \n",
      "1254     9576423 0 days 11:18:08   40688       3  \n",
      "173     14857079 0 days 15:02:23   54143       0  \n",
      "...          ...             ...     ...     ...  \n",
      "405   4268397579 0 days 17:34:40   63280       3  \n",
      "406   4271593279 0 days 17:15:53   62153       1  \n",
      "536   4275033643 0 days 16:29:18   59358       3  \n",
      "877   4277919091 0 days 12:18:30   44310       3  \n",
      "869   4294203307 0 days 15:49:22   56962       3  \n",
      "\n",
      "[1370 rows x 9 columns]\n"
     ]
    }
   ],
   "source": [
    "for index, row in uuid.iterrows():\n",
    "    for i in range(0, len(u)): # пробегаемся по всем когортам\n",
    "        if row['device'] == u[i][0] and row['source_id'] == u[i][1]: # Смотрим к какой относится клиент\n",
    "            t.append(i) # фиксируем когорту для клиента\n",
    "            id_price = purchases.query('uid ==' + str(row['uid'])) # Ищем все покупки клиента\n",
    "            id_time = visits.query('uid ==' + str(row['uid'])) # Ищем все визиты клиента\n",
    "            price_k[i] = price_k[i] + id_price['revenue'].sum() #Считаем сумму и суммируем с суммой когорты.\n",
    "            #Считаем медиану и ложим в когорту.\n",
    "            if i == 0:\n",
    "                time_k1.append(id_time['time_v'].median())\n",
    "            if i == 1:\n",
    "                time_k2.append(id_time['time_v'].median())\n",
    "            if i == 2:\n",
    "                time_k3.append(id_time['time_v'].median())\n",
    "            if i == 3:\n",
    "                time_k4.append(id_time['time_v'].median())\n",
    "            if i == 4:\n",
    "                time_k5.append(id_time['time_v'].median())\n",
    "            if i == 5:\n",
    "                time_k6.append(id_time['time_v'].median())\n",
    "            if i == 6:\n",
    "                time_k7.append(id_time['time_v'].median())\n",
    "            if i == 7:\n",
    "                time_k8.append(id_time['time_v'].median())\n",
    "            if i == 8:\n",
    "                time_k9.append(id_time['time_v'].median())\n",
    "            if i == 9:\n",
    "                time_k10.append(id_time['time_v'].median())\n",
    "            if i == 10:\n",
    "                time_k11.append(id_time['time_v'].median())\n",
    "            if i == 11:\n",
    "                time_k12.append(id_time['time_v'].median())\n",
    "            if i == 12:\n",
    "                time_k13.append(id_time['time_v'].median())\n",
    "            if i == 13:\n",
    "                time_k14.append(id_time['time_v'].median())\n",
    "            if i == 14:\n",
    "                time_k15.append(id_time['time_v'].median())\n",
    "            if i == 15:\n",
    "                time_k16.append(id_time['time_v'].median())\n",
    "            if i == 16:\n",
    "                time_k17.append(id_time['time_v'].median())\n",
    "            if i == 17:\n",
    "                time_k18.append(id_time['time_v'].median())\n",
    "\n",
    "\n",
    "# каждый клиент в своей когорте\n",
    "uuid['cohort'] = pd.Series(t[:len(uuid['uid'])], index=uuid.index)\n",
    "print(uuid)"
   ]
  },
  {
   "cell_type": "code",
   "execution_count": 0,
   "metadata": {
    "collapsed": false
   },
   "outputs": [
   ],
   "source": [
   ]
  },
  {
   "cell_type": "code",
   "execution_count": 44,
   "metadata": {
    "collapsed": false,
    "scrolled": true
   },
   "outputs": [
    {
     "name": "stdout",
     "output_type": "stream",
     "text": [
      "In ('desktop', 1) - 96 Users\n",
      "In ('desktop', 2) - 132 Users\n",
      "In ('desktop', 3) - 270 Users\n",
      "In ('desktop', 4) - 240 Users\n",
      "In ('desktop', 5) - 181 Users\n",
      "In ('desktop', 7) - 2 Users\n",
      "In ('desktop', 9) - 39 Users\n",
      "In ('desktop', 10) - 19 Users\n",
      "In ('touch', 1) - 41 Users\n",
      "In ('touch', 2) - 59 Users\n",
      "In ('touch', 3) - 66 Users\n",
      "In ('touch', 4) - 129 Users\n",
      "In ('touch', 5) - 71 Users\n",
      "In ('touch', 9) - 10 Users\n",
      "In ('touch', 10) - 15 Users\n",
      "\n",
      "\n",
      "In ('desktop', 1) - 583.0200000000001 revenue\n",
      "In ('desktop', 2) - 356.58 revenue\n",
      "In ('desktop', 3) - 212.94000000000003 revenue\n",
      "In ('desktop', 4) - 195.48000000000002 revenue\n",
      "In ('desktop', 5) - 306.71999999999997 revenue\n",
      "In ('desktop', 7) - 0.0 revenue\n",
      "In ('desktop', 9) - 25.060000000000002 revenue\n",
      "In ('desktop', 10) - 0.0 revenue\n",
      "In ('touch', 1) - 34.440000000000005 revenue\n",
      "In ('touch', 2) - 108.03999999999999 revenue\n",
      "In ('touch', 3) - 0.0 revenue\n",
      "In ('touch', 4) - 62.5 revenue\n",
      "In ('touch', 5) - 24.44 revenue\n",
      "In ('touch', 9) - 0.0 revenue\n",
      "In ('touch', 10) - 39.720000000000006 revenue\n",
      "\n",
      "\n",
      "In ('desktop', 1) - 54017.0 median time (second)\n",
      "In ('desktop', 2) - 54698.5 median time (second)\n",
      "In ('desktop', 3) - 55959.5 median time (second)\n",
      "In ('desktop', 4) - 58190.5 median time (second)\n",
      "In ('desktop', 5) - 53429.0 median time (second)\n",
      "In ('desktop', 7) - 56067.5 median time (second)\n",
      "In ('desktop', 9) - 50733.0 median time (second)\n",
      "In ('desktop', 10) - 58609.0 median time (second)\n",
      "In ('touch', 1) - 56962.0 median time (second)\n",
      "In ('touch', 2) - 58638.0 median time (second)\n",
      "In ('touch', 3) - 55680.5 median time (second)\n",
      "In ('touch', 4) - 59073.0 median time (second)\n",
      "In ('touch', 5) - 57460.0 median time (second)\n",
      "In ('touch', 9) - 50740.5 median time (second)\n",
      "In ('touch', 10) - 68704.0 median time (second)\n",
      "\n",
      "\n",
      "LTV0 = 328051.99312500004\n",
      "LTV1 = 147760.53886363635\n",
      "LTV2 = 44133.39233333334\n",
      "LTV3 = 47396.16225000001\n",
      "LTV4 = 90540.0159116022\n",
      "LTV5 = 0.0\n",
      "LTV6 = 32599.204615384617\n",
      "LTV7 = 0.0\n",
      "LTV8 = 47848.08\n",
      "LTV9 = 107377.11050847456\n",
      "LTV10 = 0.0\n",
      "LTV11 = 28620.639534883718\n",
      "LTV12 = 19779.188732394367\n",
      "LTV13 = 0.0\n",
      "LTV14 = 181928.19200000004\n"
     ]
    }
   ],
   "source": [
    "\n",
    "# 3. Количество Users по когорте.\n",
    "cohort, count = np.unique(uuid['cohort'], return_counts=True)\n",
    "for i in range(0, len(cohort)):\n",
    "    print('In ' + str(u[cohort[i]]) + ' - ' + str(count[i]) + ' Users')\n",
    "\n",
    "print('\\n')\n",
    "##############\n",
    "# 4.\tRevenue по когорте.\n",
    "for i in range(0, len(u)):\n",
    "    print('In ' + str(u[i]) + ' - ' + str(price_k[i]) + ' revenue')\n",
    "\n",
    "print('\\n')\n",
    "##############\n",
    "# 5.\tLifetime по когорте.\n",
    "for i in range(0, len(u)):\n",
    "    if i == 0:\n",
    "        print('In ' + str(u[i]) + ' - ' + str(np.median(time_k1)) + ' median time (second)')\n",
    "    if i == 1:\n",
    "        print('In ' + str(u[i]) + ' - ' + str(np.median(time_k2)) + ' median time (second)')\n",
    "    if i == 2:\n",
    "        print('In ' + str(u[i]) + ' - ' + str(np.median(time_k3)) + ' median time (second)')\n",
    "    if i == 3:\n",
    "        print('In ' + str(u[i]) + ' - ' + str(np.median(time_k4)) + ' median time (second)')\n",
    "    if i == 4:\n",
    "        print('In ' + str(u[i]) + ' - ' + str(np.median(time_k5)) + ' median time (second)')\n",
    "    if i == 5:\n",
    "        print('In ' + str(u[i]) + ' - ' + str(np.median(time_k6)) + ' median time (second)')\n",
    "    if i == 6:\n",
    "        print('In ' + str(u[i]) + ' - ' + str(np.median(time_k7)) + ' median time (second)')\n",
    "    if i == 7:\n",
    "        print('In ' + str(u[i]) + ' - ' + str(np.median(time_k8)) + ' median time (second)')\n",
    "    if i == 8:\n",
    "        print('In ' + str(u[i]) + ' - ' + str(np.median(time_k9)) + ' median time (second)')\n",
    "    if i == 9:\n",
    "        print('In ' + str(u[i]) + ' - ' + str(np.median(time_k10)) + ' median time (second)')\n",
    "    if i == 10:\n",
    "        print('In ' + str(u[i]) + ' - ' + str(np.median(time_k11)) + ' median time (second)')\n",
    "    if i == 11:\n",
    "        print('In ' + str(u[i]) + ' - ' + str(np.median(time_k12)) + ' median time (second)')\n",
    "    if i == 12:\n",
    "        print('In ' + str(u[i]) + ' - ' + str(np.median(time_k13)) + ' median time (second)')\n",
    "    if i == 13:\n",
    "        print('In ' + str(u[i]) + ' - ' + str(np.median(time_k14)) + ' median time (second)')\n",
    "    if i == 14:\n",
    "        print('In ' + str(u[i]) + ' - ' + str(np.median(time_k15)) + ' median time (second)')\n",
    "    if i == 15:\n",
    "        print('In ' + str(u[i]) + ' - ' + str(np.median(time_k16)) + ' median time (second)')\n",
    "    if i == 16:\n",
    "        print('In ' + str(u[i]) + ' - ' + str(np.median(time_k17)) + ' median time (second)')\n",
    "    if i == 17:\n",
    "        print('In ' + str(u[i]) + ' - ' + str(np.median(time_k18)) + ' median time (second)')\n",
    "\n",
    "print('\\n')\n",
    "\n",
    "##############\n",
    "# 6.Для каждой когорты посчитать LTV.\n",
    "\n",
    "for i in range(0, len(u)):\n",
    "    if i == 0:\n",
    "        print('LTV' + str(i) + ' = ' + str((price_k[i] / count[i]) * np.median(time_k1)))\n",
    "    if i == 1:\n",
    "        print('LTV' + str(i) + ' = ' + str((price_k[i] / count[i]) * np.median(time_k2)))\n",
    "    if i == 2:\n",
    "        print('LTV' + str(i) + ' = ' + str((price_k[i] / count[i]) * np.median(time_k3)))\n",
    "    if i == 3:\n",
    "        print('LTV' + str(i) + ' = ' + str((price_k[i] / count[i]) * np.median(time_k4)))\n",
    "    if i == 4:\n",
    "        print('LTV' + str(i) + ' = ' + str((price_k[i] / count[i]) * np.median(time_k5)))\n",
    "    if i == 5:\n",
    "        print('LTV' + str(i) + ' = ' + str((price_k[i] / count[i]) * np.median(time_k6)))\n",
    "    if i == 6:\n",
    "        print('LTV' + str(i) + ' = ' + str((price_k[i] / count[i]) * np.median(time_k7)))\n",
    "    if i == 7:\n",
    "        print('LTV' + str(i) + ' = ' + str((price_k[i] / count[i]) * np.median(time_k8)))\n",
    "    if i == 8:\n",
    "        print('LTV' + str(i) + ' = ' + str((price_k[i] / count[i]) * np.median(time_k9)))\n",
    "    if i == 9:\n",
    "        print('LTV' + str(i) + ' = ' + str((price_k[i] / count[i]) * np.median(time_k10)))\n",
    "    if i == 10:\n",
    "        print('LTV' + str(i) + ' = ' + str((price_k[i] / count[i]) * np.median(time_k11)))\n",
    "    if i == 11:\n",
    "        print('LTV' + str(i) + ' = ' + str((price_k[i] / count[i]) * np.median(time_k12)))\n",
    "    if i == 12:\n",
    "        print('LTV' + str(i) + ' = ' + str((price_k[i] / count[i]) * np.median(time_k13)))\n",
    "    if i == 13:\n",
    "        print('LTV' + str(i) + ' = ' + str((price_k[i] / count[i]) * np.median(time_k14)))\n",
    "    if i == 14:\n",
    "        print('LTV' + str(i) + ' = ' + str((price_k[i] / count[i]) * np.median(time_k15)))\n",
    "    if i == 15:\n",
    "        print('LTV' + str(i) + ' = ' + str((price_k[i] / count[i]) * np.median(time_k16)))\n",
    "    if i == 16:\n",
    "        print('LTV' + str(i) + ' = ' + str((price_k[i] / count[i]) * np.median(time_k17)))\n",
    "    if i == 17:\n",
    "        print('LTV' + str(i) + ' = ' + str((price_k[i] / count[i]) * np.median(time_k18)))"
   ]
  },
  {
   "cell_type": "code",
   "execution_count": 0,
   "metadata": {
    "collapsed": false
   },
   "outputs": [
   ],
   "source": [
   ]
  }
 ],
 "metadata": {
  "kernelspec": {
   "display_name": "Python 3 (system-wide)",
   "language": "python",
   "metadata": {
    "cocalc": {
     "description": "Python 3 programming language",
     "priority": 100,
     "url": "https://www.python.org/"
    }
   },
   "name": "python3",
   "resource_dir": "/ext/jupyter/kernels/python3"
  },
  "language_info": {
   "codemirror_mode": {
    "name": "ipython",
    "version": 3
   },
   "file_extension": ".py",
   "mimetype": "text/x-python",
   "name": "python",
   "nbconvert_exporter": "python",
   "pygments_lexer": "ipython3",
   "version": "3.8.5"
  }
 },
 "nbformat": 4,
 "nbformat_minor": 4
}