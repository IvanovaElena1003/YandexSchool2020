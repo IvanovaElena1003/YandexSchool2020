{
 "cells": [
  {
   "cell_type": "code",
   "execution_count": 1,
   "metadata": {
    "collapsed": false
   },
   "outputs": [
   ],
   "source": [
    "import pandas as pd\n",
    "import numpy as np\n",
    "\n",
    "# метод для парсинга даты в целое число секунд\n",
    "def hms_to_seconds(t):\n",
    "    ty = t.split(' ')\n",
    "    time = ty[2]\n",
    "    h, m, s = [int(i) for i in time.split(':')]\n",
    "    return 86400*int(ty[0]) + 3600*h + 60*m + s\n",
    "\n"
   ]
  },
  {
   "cell_type": "code",
   "execution_count": 2,
   "metadata": {
    "collapsed": false
   },
   "outputs": [
   ],
   "source": [
    "#Считываем данные из файлов\n",
    "purchases = pd.read_csv('purchases.csv', delimiter=',')\n",
    "visits = pd.read_csv('visits.csv', delimiter=',')"
   ]
  },
  {
   "cell_type": "code",
   "execution_count": 3,
   "metadata": {
    "collapsed": false
   },
   "outputs": [
   ],
   "source": [
    "#Приведём дату в удобный вид и формат\n",
    "visits['start_dt'] = pd.to_datetime(visits['start_dt'], errors=\"coerce\") .dt.strftime(\"%Y-%m-%d %H:%M:%S\")\n",
    "visits['start_dt'] = pd.to_datetime(visits['start_dt'], errors=\"coerce\")\n",
    "visits['end_ts'] = pd.to_datetime(visits['end_ts'], errors=\"coerce\").dt.strftime(\"%Y-%m-%d %H:%M:%S\")\n",
    "visits['end_ts'] = pd.to_datetime(visits['end_ts'], errors=\"coerce\")\n",
    "#Посчитаем время визита\n",
    "visits['time'] = visits['end_ts'] - visits['start_dt']"
   ]
  },
  {
   "cell_type": "code",
   "execution_count": 4,
   "metadata": {
    "collapsed": false
   },
   "outputs": [
   ],
   "source": [
    "#Теперь необходимо преобразовать данное время в число секунд.\n",
    "time = []\n",
    "for index, row in visits.iterrows():\n",
    "    time.append(hms_to_seconds(str(row['time'])))\n",
    "visits['time_v'] = pd.Series(time, index=visits.index)"
   ]
  },
  {
   "cell_type": "code",
   "execution_count": 5,
   "metadata": {
    "collapsed": false
   },
   "outputs": [
    {
     "name": "stdout",
     "output_type": "stream",
     "text": [
      "[('desktop', 1) ('desktop', 2) ('desktop', 3) ('desktop', 4)\n",
      " ('desktop', 5) ('desktop', 6) ('desktop', 7) ('desktop', 9)\n",
      " ('desktop', 10) ('touch', 1) ('touch', 2) ('touch', 3) ('touch', 4)\n",
      " ('touch', 5) ('touch', 6) ('touch', 7) ('touch', 9) ('touch', 10)]\n",
      "\n",
      "\n"
     ]
    }
   ],
   "source": [
    "#####################\n",
    "# 1.\tОпределение когорт.\n",
    "# Для определение когорт, необходимо посчитать количество уникальных значений по двум столбцам\n",
    "a = visits[['device', 'source_id']]\n",
    "u = np.unique(a.apply(tuple, axis=1))\n",
    "# уникальные когорты\n",
    "print(u)\n",
    "print('\\n')"
   ]
  },
  {
   "cell_type": "code",
   "execution_count": 13,
   "metadata": {
    "collapsed": false
   },
   "outputs": [
   ],
   "source": [
    "#####################\n",
    "# 2.\tРаспределение Users по когортам.\n",
    "# Находим первые вхождения уникальных юзеров\n",
    "b = visits[['uid']]\n",
    "uid, index = np.unique(b, return_index=True)\n",
    "# отбираем строки соответствующие первых вхождениям клиентов\n",
    "uuid = visits.loc[index]\n",
    "\n",
    "# сюда будем записывать id кагорты\n",
    "t = []\n",
    "# на место каждого элемента массива, будет накопленное значение по кагорте\n",
    "# 4.\tRevenue по когорте.\n",
    "price_k = [0, 0, 0, 0, 0, 0, 0, 0, 0, 0, 0, 0, 0, 0, 0, 0, 0, 0]\n",
    "# 5.\tLifetime по когорте.\n",
    "time_k1 = []\n",
    "time_k2 = []\n",
    "time_k3 = []\n",
    "time_k4 = []\n",
    "time_k5 = []\n",
    "time_k6 = []\n",
    "time_k7 = []\n",
    "time_k8 = []\n",
    "time_k9 = []\n",
    "time_k10 = []\n",
    "time_k11 = []\n",
    "time_k12 = []\n",
    "time_k13 = []\n",
    "time_k14 = []\n",
    "time_k15 = []\n",
    "time_k16 = []\n",
    "time_k17 = []\n",
    "time_k18 = []\n"
   ]
  },
  {
   "cell_type": "code",
   "execution_count": 0,
   "metadata": {
    "collapsed": false
   },
   "outputs": [
   ],
   "source": [
   ]
  },
  {
   "cell_type": "code",
   "execution_count": 14,
   "metadata": {
    "collapsed": false,
    "scrolled": true
   },
   "outputs": [
    {
     "name": "stdout",
     "output_type": "stream",
     "text": [
      "         device              end_ts  source_id   start_dt  \\\n",
      "144039  desktop 2016-11-15 09:14:08          5 2016-11-15   \n",
      "617785  desktop 2017-02-18 23:06:01          3 2017-02-18   \n",
      "336307  desktop 2017-01-03 19:54:02          3 2017-01-03   \n",
      "162368  desktop 2016-06-14 17:41:54          5 2016-06-14   \n",
      "344374  desktop 2016-11-26 14:05:53          3 2016-11-26   \n",
      "...         ...                 ...        ...        ...   \n",
      "428715  desktop 2016-07-12 18:36:57          4 2016-07-12   \n",
      "164109    touch 2017-05-28 18:03:24          4 2017-05-28   \n",
      "285093  desktop 2017-02-05 18:01:28          3 2017-02-05   \n",
      "49057   desktop 2017-03-27 21:27:12          3 2017-03-27   \n",
      "32595   desktop 2017-02-06 13:55:15          3 2017-02-06   \n",
      "\n",
      "                    start_ts        uid            time  time_v  cohort  \n",
      "144039  2016-11-15T09:11:16Z       4245 0 days 09:14:08   33248       4  \n",
      "617785  2017-02-18T23:00:30Z       5097 0 days 23:06:01   83161       2  \n",
      "336307  2017-01-03T19:44:56Z       8896 0 days 19:54:02   71642       2  \n",
      "162368  2016-06-14T17:16:17Z      21017 0 days 17:41:54   63714       4  \n",
      "344374  2016-11-26T14:01:27Z      30696 0 days 14:05:53   50753       2  \n",
      "...                      ...        ...             ...     ...     ...  \n",
      "428715  2016-07-12T18:08:38Z  571081075 0 days 18:36:57   67017       3  \n",
      "164109  2017-05-28T17:58:24Z  571081479 0 days 18:03:24   65004      12  \n",
      "285093  2017-02-05T17:59:32Z  571082449 0 days 18:01:28   64888       2  \n",
      "49057   2017-03-27T21:07:32Z  571088694 0 days 21:27:12   77232       2  \n",
      "32595   2017-02-06T13:53:05Z  571114661 0 days 13:55:15   50115       2  \n",
      "\n",
      "[50000 rows x 9 columns]\n"
     ]
    }
   ],
   "source": [
    "\n",
    "for index, row in uuid.iterrows():\n",
    "    for i in range(0, len(u)): # пробегаемся по всем когортам\n",
    "        if row['device'] == u[i][0] and row['source_id'] == u[i][1]: # Смотрим к какой относится клиент\n",
    "            t.append(i) # фиксируем когорту для клиента\n",
    "            id_price = purchases.query('uid ==' + str(row['uid'])) # Ищем все покупки клиента\n",
    "            id_time = visits.query('uid ==' + str(row['uid'])) # Ищем все визиты клиента\n",
    "            price_k[i] = price_k[i] + id_price['revenue'].sum() #Считаем сумму и суммируем с суммой когорты.\n",
    "            #Считаем медиану и ложим в когорту.\n",
    "            if i == 0:\n",
    "                time_k1.append(id_time['time_v'].median())\n",
    "            if i == 1:\n",
    "                time_k2.append(id_time['time_v'].median())\n",
    "            if i == 2:\n",
    "                time_k3.append(id_time['time_v'].median())\n",
    "            if i == 3:\n",
    "                time_k4.append(id_time['time_v'].median())\n",
    "            if i == 4:\n",
    "                time_k5.append(id_time['time_v'].median())\n",
    "            if i == 5:\n",
    "                time_k6.append(id_time['time_v'].median())\n",
    "            if i == 6:\n",
    "                time_k7.append(id_time['time_v'].median())\n",
    "            if i == 7:\n",
    "                time_k8.append(id_time['time_v'].median())\n",
    "            if i == 8:\n",
    "                time_k9.append(id_time['time_v'].median())\n",
    "            if i == 9:\n",
    "                time_k10.append(id_time['time_v'].median())\n",
    "            if i == 10:\n",
    "                time_k11.append(id_time['time_v'].median())\n",
    "            if i == 11:\n",
    "                time_k12.append(id_time['time_v'].median())\n",
    "            if i == 12:\n",
    "                time_k13.append(id_time['time_v'].median())\n",
    "            if i == 13:\n",
    "                time_k14.append(id_time['time_v'].median())\n",
    "            if i == 14:\n",
    "                time_k15.append(id_time['time_v'].median())\n",
    "            if i == 15:\n",
    "                time_k16.append(id_time['time_v'].median())\n",
    "            if i == 16:\n",
    "                time_k17.append(id_time['time_v'].median())\n",
    "            if i == 17:\n",
    "                time_k18.append(id_time['time_v'].median())\n",
    "\n",
    "\n",
    "# каждый клиент в своей когорте\n",
    "uuid['cohort'] = pd.Series(t[:len(uuid['uid'])], index=uuid.index)\n",
    "print(uuid)"
   ]
  },
  {
   "cell_type": "code",
   "execution_count": 0,
   "metadata": {
    "collapsed": false
   },
   "outputs": [
   ],
   "source": [
   ]
  },
  {
   "cell_type": "code",
   "execution_count": 16,
   "metadata": {
    "collapsed": false,
    "scrolled": true
   },
   "outputs": [
    {
     "name": "stdout",
     "output_type": "stream",
     "text": [
      "In ('desktop', 1) - 1394 Users\n",
      "In ('desktop', 2) - 2597 Users\n",
      "In ('desktop', 3) - 10746 Users\n",
      "In ('desktop', 4) - 10437 Users\n",
      "In ('desktop', 5) - 7930 Users\n",
      "In ('desktop', 6) - 2 Users\n",
      "In ('desktop', 7) - 5 Users\n",
      "In ('desktop', 9) - 956 Users\n",
      "In ('desktop', 10) - 1088 Users\n",
      "In ('touch', 1) - 719 Users\n",
      "In ('touch', 2) - 1311 Users\n",
      "In ('touch', 3) - 3387 Users\n",
      "In ('touch', 4) - 5656 Users\n",
      "In ('touch', 5) - 3010 Users\n",
      "In ('touch', 7) - 4 Users\n",
      "In ('touch', 9) - 321 Users\n",
      "In ('touch', 10) - 437 Users\n",
      "\n",
      "\n",
      "In ('desktop', 1) - 5423.889999999999 revenue\n",
      "In ('desktop', 2) - 6645.329999999999 revenue\n",
      "In ('desktop', 3) - 6950.670000000002 revenue\n",
      "In ('desktop', 4) - 8551.91999999999 revenue\n",
      "In ('desktop', 5) - 6491.969999999999 revenue\n",
      "In ('desktop', 6) - 0.0 revenue\n",
      "In ('desktop', 7) - 0.0 revenue\n",
      "In ('desktop', 9) - 1272.9500000000005 revenue\n",
      "In ('desktop', 10) - 650.4300000000009 revenue\n",
      "In ('touch', 1) - 2494.040000000001 revenue\n",
      "In ('touch', 2) - 2164.939999999999 revenue\n",
      "In ('touch', 3) - 1232.0600000000013 revenue\n",
      "In ('touch', 4) - 1911.2899999999988 revenue\n",
      "In ('touch', 5) - 857.9900000000005 revenue\n",
      "In ('touch', 6) - 0 revenue\n",
      "In ('touch', 7) - 0.0 revenue\n",
      "In ('touch', 9) - 293.90000000000003 revenue\n",
      "In ('touch', 10) - 105.33000000000001 revenue\n",
      "\n",
      "\n",
      "In ('desktop', 1) - 55133.25 median time (second)\n",
      "In ('desktop', 2) - 55191.0 median time (second)\n",
      "In ('desktop', 3) - 56481.75 median time (second)\n",
      "In ('desktop', 4) - 56376.5 median time (second)\n",
      "In ('desktop', 5) - 55316.75 median time (second)\n",
      "In ('desktop', 6) - 60857.0 median time (second)\n",
      "In ('desktop', 7) - 70239.0 median time (second)\n",
      "In ('desktop', 9) - 56356.0 median time (second)\n",
      "In ('desktop', 10) - 58834.75 median time (second)\n",
      "In ('touch', 1) - 56250.0 median time (second)\n",
      "In ('touch', 2) - 57193.0 median time (second)\n",
      "In ('touch', 3) - 57934.0 median time (second)\n",
      "In ('touch', 4) - 59121.5 median time (second)\n",
      "In ('touch', 5) - 54889.0 median time (second)\n",
      "In ('touch', 6) - nan median time (second)\n",
      "In ('touch', 7) - 50757.75 median time (second)\n",
      "In ('touch', 9) - 58133.0 median time (second)\n",
      "In ('touch', 10) - 54549.0 median time (second)\n",
      "\n",
      "\n",
      "LTV0 = 3.8908823529411762\n",
      "LTV1 = 2.558848671544089\n",
      "LTV2 = 0.6468146286990509\n",
      "LTV3 = 0.8193848807128474\n",
      "LTV4 = 0.8186595208070617\n",
      "LTV5 = 0.0\n",
      "LTV6 = 0.0\n",
      "LTV7 = 1.3315376569037662\n",
      "LTV8 = 0.5978216911764713\n",
      "LTV9 = 3.4687621696801125\n",
      "LTV10 = 1.651365369946605\n",
      "LTV11 = 0.36376144080307093\n",
      "LTV12 = 0.33792256011315397\n",
      "LTV13 = 0.2850465116279071\n",
      "LTV14 = 0.0\n",
      "LTV15 = 0.0\n",
      "LTV16 = 0.6725400457665904\n"
     ]
    }
   ],
   "source": [
    "\n",
    "# 3. Количество Users по когорте.\n",
    "cohort, count = np.unique(uuid['cohort'], return_counts=True)\n",
    "for i in range(0, len(cohort)):\n",
    "    print('In ' + str(u[cohort[i]]) + ' - ' + str(count[i]) + ' Users')\n",
    "\n",
    "print('\\n')\n",
    "##############\n",
    "# 4.\tRevenue по когорте.\n",
    "for i in range(0, len(u)):\n",
    "    print('In ' + str(u[i]) + ' - ' + str(price_k[i]) + ' revenue')\n",
    "\n",
    "print('\\n')\n",
    "##############\n",
    "# 5.\tLifetime по когорте.\n",
    "for i in range(0, len(u)):\n",
    "    if i == 0:\n",
    "        print('In ' + str(u[i]) + ' - ' + str(np.median(time_k1)) + ' median time (second)')\n",
    "    if i == 1:\n",
    "        print('In ' + str(u[i]) + ' - ' + str(np.median(time_k2)) + ' median time (second)')\n",
    "    if i == 2:\n",
    "        print('In ' + str(u[i]) + ' - ' + str(np.median(time_k3)) + ' median time (second)')\n",
    "    if i == 3:\n",
    "        print('In ' + str(u[i]) + ' - ' + str(np.median(time_k4)) + ' median time (second)')\n",
    "    if i == 4:\n",
    "        print('In ' + str(u[i]) + ' - ' + str(np.median(time_k5)) + ' median time (second)')\n",
    "    if i == 5:\n",
    "        print('In ' + str(u[i]) + ' - ' + str(np.median(time_k6)) + ' median time (second)')\n",
    "    if i == 6:\n",
    "        print('In ' + str(u[i]) + ' - ' + str(np.median(time_k7)) + ' median time (second)')\n",
    "    if i == 7:\n",
    "        print('In ' + str(u[i]) + ' - ' + str(np.median(time_k8)) + ' median time (second)')\n",
    "    if i == 8:\n",
    "        print('In ' + str(u[i]) + ' - ' + str(np.median(time_k9)) + ' median time (second)')\n",
    "    if i == 9:\n",
    "        print('In ' + str(u[i]) + ' - ' + str(np.median(time_k10)) + ' median time (second)')\n",
    "    if i == 10:\n",
    "        print('In ' + str(u[i]) + ' - ' + str(np.median(time_k11)) + ' median time (second)')\n",
    "    if i == 11:\n",
    "        print('In ' + str(u[i]) + ' - ' + str(np.median(time_k12)) + ' median time (second)')\n",
    "    if i == 12:\n",
    "        print('In ' + str(u[i]) + ' - ' + str(np.median(time_k13)) + ' median time (second)')\n",
    "    if i == 13:\n",
    "        print('In ' + str(u[i]) + ' - ' + str(np.median(time_k14)) + ' median time (second)')\n",
    "    if i == 14:\n",
    "        print('In ' + str(u[i]) + ' - ' + str(np.median(time_k15)) + ' median time (second)')\n",
    "    if i == 15:\n",
    "        print('In ' + str(u[i]) + ' - ' + str(np.median(time_k16)) + ' median time (second)')\n",
    "    if i == 16:\n",
    "        print('In ' + str(u[i]) + ' - ' + str(np.median(time_k17)) + ' median time (second)')\n",
    "    if i == 17:\n",
    "        print('In ' + str(u[i]) + ' - ' + str(np.median(time_k18)) + ' median time (second)')\n",
    "\n",
    "print('\\n')\n",
    "\n",
    "##############\n",
    "# 6.Для каждой когорты посчитать LTV.\n",
    "\n",
    "for i in range(0, len(cohort)):\n",
    "    print('LTV' + str(i) + ' = ' + str(price_k[i] / count[i]))"
   ]
  },
  {
   "cell_type": "code",
   "execution_count": 0,
   "metadata": {
    "collapsed": false
   },
   "outputs": [
   ],
   "source": [
   ]
  }
 ],
 "metadata": {
  "kernelspec": {
   "display_name": "Python 3 (system-wide)",
   "language": "python",
   "metadata": {
    "cocalc": {
     "description": "Python 3 programming language",
     "priority": 100,
     "url": "https://www.python.org/"
    }
   },
   "name": "python3",
   "resource_dir": "/ext/jupyter/kernels/python3"
  },
  "language_info": {
   "codemirror_mode": {
    "name": "ipython",
    "version": 3
   },
   "file_extension": ".py",
   "mimetype": "text/x-python",
   "name": "python",
   "nbconvert_exporter": "python",
   "pygments_lexer": "ipython3",
   "version": "3.8.5"
  }
 },
 "nbformat": 4,
 "nbformat_minor": 4
}